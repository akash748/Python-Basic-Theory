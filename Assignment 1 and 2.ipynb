{
 "cells": [
  {
   "cell_type": "markdown",
   "metadata": {},
   "source": [
    "# Assignment 1 and Assignment 2"
   ]
  },
  {
   "cell_type": "markdown",
   "metadata": {},
   "source": [
    "# Assignment 1"
   ]
  },
  {
   "cell_type": "markdown",
   "metadata": {},
   "source": [
    "Q1. What are the differences between operators and values in the following?"
   ]
  },
  {
   "cell_type": "markdown",
   "metadata": {},
   "source": [
    "'hello' : This is simply a string datatype value which can either be printed directly using the print function or can be stored into a variable of string datatype\n",
    "\n",
    "-87.8 : This is a floating value on which we can perform mathematical operations like addition , subtraction , multiplication and division just like an integer.\n",
    "\n",
    "(-) : This symbol can be used to peform mathematical subtraction on integers and floating point numbers.\n",
    "\n",
    "\n",
    "(/) : This operator is used for division in python in which the right element is divided by the first element and the result always results in floating value whereas (//) is another type of operator which is used for floor division which gives the int value adjusted to the left in the number line\n",
    "\n",
    "\n",
    "(+) : The addition operator is used to perform mathematical addition in integer and floating type value and perform concatenation for string type values and appending in list data types\n",
    "\n",
    "\n",
    "6 : This is a integer type value on which mathematical calcultions can be performed. The integer values can also be iterated using the range function\n",
    "\n",
    "\n"
   ]
  },
  {
   "cell_type": "markdown",
   "metadata": {},
   "source": [
    "Q2. What is the difference between string and variable?\n",
    "spam\n",
    "'spam'"
   ]
  },
  {
   "cell_type": "markdown",
   "metadata": {},
   "source": [
    "A Variable is a store of information, and a String is a type of information you would store in a Variable. A String is usually words, enclosed within  \"\"\n",
    "In the above example spam is our variable which can be used to values of different data types while \"spam\" is a string which can be stored inside the variable spam"
   ]
  },
  {
   "cell_type": "markdown",
   "metadata": {},
   "source": [
    "Q3. Describe three different data forms."
   ]
  },
  {
   "cell_type": "markdown",
   "metadata": {},
   "source": [
    "The different types of data forms are:\n",
    "\n",
    "Numeric : This includes all the data in the number format on which mathematical operations can be performed. These can be further subdivided into integer and floating point. Integer includes all the numbers without the decimal number. For eg.\n",
    "\n",
    "a = 20\n",
    "\n",
    "They are represented by the int keyword in python\n",
    "\n",
    "Floating point values included all the data with the decimal values. For eg\n",
    "\n",
    "a = 20.0,\n",
    "b = 45.64\n",
    "\n",
    "They are represented by the float keyword in python\n",
    "\n",
    "String : This values are enclosed within the quotes(\"\", '') and may contain words or senteneces or even numbers inside the quotes. For eg\n",
    "\n",
    "k = \"45.64\",\n",
    "p = \"My name is Akash\",\n",
    "q = \"Hello\"\n",
    "\n",
    "\n",
    "They are represented by the str keyword in python\n",
    "\n",
    "\n",
    "Boolean : This kind of data type contains only two values i.e. True and False. True holds the value 1 while False hold the value 0. They are represented by the bool keyword in python\n",
    "\n",
    "\n",
    "\n"
   ]
  },
  {
   "cell_type": "markdown",
   "metadata": {},
   "source": [
    "Q4. What makes up an expression? What are the functions of all expressions?"
   ]
  },
  {
   "cell_type": "markdown",
   "metadata": {},
   "source": [
    "An expression is a combination of values, variables, operators, and calls to functions. Expressions need to be evaluated. If you ask Python to print an expression, the interpreter evaluates the expression and displays the result. Expressions are representations of value. They are different from statement in the fact that statements do something while expressions are representation of value. For example any string is also an expressions since it represents the value of the string as well.\n",
    "\n",
    "\n",
    "The basic function of all the expressions is to do operations on our data and then make the system work for us.\n",
    "\n",
    "\n",
    "c = a + b - k"
   ]
  },
  {
   "cell_type": "markdown",
   "metadata": {},
   "source": [
    "Q5. In this chapter, assignment statements such as spam = 10 were added. What is the\n",
    "difference between a declaration and an expression?"
   ]
  },
  {
   "cell_type": "markdown",
   "metadata": {},
   "source": [
    "Decalaration is basically used to assign values to the variables whereas expressions help us to perform operations on those variables.\n",
    "\n",
    "a = 10   #This is used for declaration\n",
    "\n",
    "a = a + 10   #This is an expression which adds 10 to the existing a"
   ]
  },
  {
   "cell_type": "markdown",
   "metadata": {},
   "source": [
    "Q6. After running the following code, what does the variable bacon contain?\n",
    "\n",
    "bacon = 22\n",
    "\n",
    "bacon + 1\n"
   ]
  },
  {
   "cell_type": "code",
   "execution_count": 3,
   "metadata": {},
   "outputs": [
    {
     "data": {
      "text/plain": [
       "23"
      ]
     },
     "execution_count": 3,
     "metadata": {},
     "output_type": "execute_result"
    }
   ],
   "source": [
    "bacon = 22\n",
    "bacon + 1\n"
   ]
  },
  {
   "cell_type": "markdown",
   "metadata": {},
   "source": [
    "Q7. What should the values of the following two terms be?\n",
    "\n",
    "'spam' + 'spamspam'\n",
    "\n",
    "'spam' * 3\n",
    "\n",
    "\n",
    "   "
   ]
  },
  {
   "cell_type": "code",
   "execution_count": 5,
   "metadata": {},
   "outputs": [
    {
     "data": {
      "text/plain": [
       "'spamspamspam'"
      ]
     },
     "execution_count": 5,
     "metadata": {},
     "output_type": "execute_result"
    }
   ],
   "source": [
    "'spam' + 'spamspam'\n"
   ]
  },
  {
   "cell_type": "code",
   "execution_count": 6,
   "metadata": {},
   "outputs": [
    {
     "data": {
      "text/plain": [
       "'spamspamspam'"
      ]
     },
     "execution_count": 6,
     "metadata": {},
     "output_type": "execute_result"
    }
   ],
   "source": [
    "'spam' * 3"
   ]
  },
  {
   "cell_type": "markdown",
   "metadata": {},
   "source": [
    "Q8. Why is it that eggs is a true variable name but 100 is not? "
   ]
  },
  {
   "cell_type": "markdown",
   "metadata": {},
   "source": [
    "A variable can have a short name (like x and y) or a more descriptive name (age, carname, total_volume).\n",
    "\n",
    "\n",
    "Rules for Python variables:\n",
    "\n",
    "\n",
    "A variable name must start with a letter or the underscore character\n",
    "\n",
    "A variable name cannot start with a number\n",
    "\n",
    "A variable name can only contain alpha-numeric characters and underscores (A-z, 0-9, and _ )\n",
    "\n",
    "Variable names are case-sensitive (age, Age and AGE are three different variables)\n"
   ]
  },
  {
   "cell_type": "markdown",
   "metadata": {},
   "source": [
    "Q9. Which of the following three functions may be used to convert a value to an integer, a\n",
    "floating-point number, or a string?"
   ]
  },
  {
   "cell_type": "code",
   "execution_count": 12,
   "metadata": {},
   "outputs": [
    {
     "data": {
      "text/plain": [
       "int"
      ]
     },
     "execution_count": 12,
     "metadata": {},
     "output_type": "execute_result"
    }
   ],
   "source": [
    "a = \"45\"\n",
    "b = int(a)\n",
    "type(b)"
   ]
  },
  {
   "cell_type": "code",
   "execution_count": 13,
   "metadata": {},
   "outputs": [
    {
     "data": {
      "text/plain": [
       "float"
      ]
     },
     "execution_count": 13,
     "metadata": {},
     "output_type": "execute_result"
    }
   ],
   "source": [
    "c = \"56.74\"\n",
    "d = float(c)\n",
    "type(d)"
   ]
  },
  {
   "cell_type": "code",
   "execution_count": 14,
   "metadata": {},
   "outputs": [
    {
     "data": {
      "text/plain": [
       "str"
      ]
     },
     "execution_count": 14,
     "metadata": {},
     "output_type": "execute_result"
    }
   ],
   "source": [
    "f = 100\n",
    "k = str(f)\n",
    "type(k)\n"
   ]
  },
  {
   "cell_type": "markdown",
   "metadata": {},
   "source": [
    "The three functions are int(), float(), str()"
   ]
  },
  {
   "cell_type": "markdown",
   "metadata": {},
   "source": [
    "Q10. What is the error caused by this expression? What would you do about it?\n",
    "\n",
    "'I have eaten' + 99 + 'burritoes'"
   ]
  },
  {
   "cell_type": "code",
   "execution_count": 15,
   "metadata": {},
   "outputs": [
    {
     "ename": "TypeError",
     "evalue": "can only concatenate str (not \"int\") to str",
     "output_type": "error",
     "traceback": [
      "\u001b[1;31m---------------------------------------------------------------------------\u001b[0m",
      "\u001b[1;31mTypeError\u001b[0m                                 Traceback (most recent call last)",
      "\u001b[1;32m<ipython-input-15-875742b01af3>\u001b[0m in \u001b[0;36m<module>\u001b[1;34m\u001b[0m\n\u001b[1;32m----> 1\u001b[1;33m \u001b[1;34m'I have eaten'\u001b[0m \u001b[1;33m+\u001b[0m \u001b[1;36m99\u001b[0m \u001b[1;33m+\u001b[0m \u001b[1;34m'burritoes'\u001b[0m\u001b[1;33m\u001b[0m\u001b[1;33m\u001b[0m\u001b[0m\n\u001b[0m",
      "\u001b[1;31mTypeError\u001b[0m: can only concatenate str (not \"int\") to str"
     ]
    }
   ],
   "source": [
    "'I have eaten' + 99 + 'burritoes'"
   ]
  },
  {
   "cell_type": "markdown",
   "metadata": {},
   "source": [
    "The above code generated an error because we tried concatenating string with an integer data type"
   ]
  },
  {
   "cell_type": "markdown",
   "metadata": {},
   "source": [
    "# Assignment 2"
   ]
  },
  {
   "cell_type": "markdown",
   "metadata": {},
   "source": [
    "Q1. What are the Boolean data type&#39;s two values? How do you go about writing them?"
   ]
  },
  {
   "cell_type": "markdown",
   "metadata": {},
   "source": [
    "The two different values for boolean data types are True and False. They are represented by the keyword bool in python. True has been assigned as 1 and False has been assigned 0 value in python by default."
   ]
  },
  {
   "cell_type": "code",
   "execution_count": 16,
   "metadata": {},
   "outputs": [
    {
     "data": {
      "text/plain": [
       "True"
      ]
     },
     "execution_count": 16,
     "metadata": {},
     "output_type": "execute_result"
    }
   ],
   "source": [
    "a = True\n",
    "b = False\n",
    "a"
   ]
  },
  {
   "cell_type": "code",
   "execution_count": 17,
   "metadata": {},
   "outputs": [
    {
     "data": {
      "text/plain": [
       "2"
      ]
     },
     "execution_count": 17,
     "metadata": {},
     "output_type": "execute_result"
    }
   ],
   "source": [
    "True + True + False"
   ]
  },
  {
   "cell_type": "code",
   "execution_count": 18,
   "metadata": {},
   "outputs": [
    {
     "data": {
      "text/plain": [
       "False"
      ]
     },
     "execution_count": 18,
     "metadata": {},
     "output_type": "execute_result"
    }
   ],
   "source": [
    "4 > 5"
   ]
  },
  {
   "cell_type": "markdown",
   "metadata": {},
   "source": [
    "Q2. What are the three different types of Boolean operators?"
   ]
  },
  {
   "cell_type": "markdown",
   "metadata": {},
   "source": [
    "The three different types of boolean operators are and, or , not "
   ]
  },
  {
   "cell_type": "markdown",
   "metadata": {},
   "source": [
    "Q3. Make a list of each Boolean operator&#39;s truth tables (i.e. every possible combination of Boolean\n",
    "values for the operator and what it evaluate ).    "
   ]
  },
  {
   "cell_type": "markdown",
   "metadata": {},
   "source": [
    "AND\n",
    "\n",
    "0 AND 0 = 0\n",
    "\n",
    "0 AND 1 = 0\n",
    "\n",
    "1 AND 0 = 0\n",
    "\n",
    "1 AND 1 = 1\n",
    "\n",
    "\n",
    "\n",
    "OR \n",
    "\n",
    "0 OR 0 = 0\n",
    "\n",
    "0 OR 1 = 1\n",
    "\n",
    "1 OR 0 = 1\n",
    "\n",
    "1 OR 1 = 1\n",
    "\n",
    "\n",
    "\n",
    "NOT \n",
    "\n",
    "NOT 0 = 1\n",
    "\n",
    "NOT 1 = 0\n"
   ]
  },
  {
   "cell_type": "markdown",
   "metadata": {},
   "source": [
    "Q4. What are the values of the following expressions?"
   ]
  },
  {
   "cell_type": "code",
   "execution_count": 20,
   "metadata": {},
   "outputs": [
    {
     "data": {
      "text/plain": [
       "False"
      ]
     },
     "execution_count": 20,
     "metadata": {},
     "output_type": "execute_result"
    }
   ],
   "source": [
    "(5 > 4) and (3==5)"
   ]
  },
  {
   "cell_type": "code",
   "execution_count": 21,
   "metadata": {},
   "outputs": [
    {
     "data": {
      "text/plain": [
       "False"
      ]
     },
     "execution_count": 21,
     "metadata": {},
     "output_type": "execute_result"
    }
   ],
   "source": [
    "not(5>4)"
   ]
  },
  {
   "cell_type": "code",
   "execution_count": 22,
   "metadata": {},
   "outputs": [
    {
     "data": {
      "text/plain": [
       "True"
      ]
     },
     "execution_count": 22,
     "metadata": {},
     "output_type": "execute_result"
    }
   ],
   "source": [
    "(5>4) or (3==5)"
   ]
  },
  {
   "cell_type": "code",
   "execution_count": 23,
   "metadata": {},
   "outputs": [
    {
     "data": {
      "text/plain": [
       "False"
      ]
     },
     "execution_count": 23,
     "metadata": {},
     "output_type": "execute_result"
    }
   ],
   "source": [
    "not ((5>4) or (3==5))"
   ]
  },
  {
   "cell_type": "code",
   "execution_count": 24,
   "metadata": {},
   "outputs": [
    {
     "data": {
      "text/plain": [
       "False"
      ]
     },
     "execution_count": 24,
     "metadata": {},
     "output_type": "execute_result"
    }
   ],
   "source": [
    "(True and True) and (True == False)"
   ]
  },
  {
   "cell_type": "code",
   "execution_count": 25,
   "metadata": {},
   "outputs": [
    {
     "data": {
      "text/plain": [
       "True"
      ]
     },
     "execution_count": 25,
     "metadata": {},
     "output_type": "execute_result"
    }
   ],
   "source": [
    "(not False) or (not True)"
   ]
  },
  {
   "cell_type": "markdown",
   "metadata": {},
   "source": [
    "Q5. What are the six different types of reference operators?"
   ]
  },
  {
   "cell_type": "markdown",
   "metadata": {},
   "source": [
    "Diiferent types of reference operators are:\n",
    "\n",
    " Arithmetic Operators:\n",
    " \n",
    " Arithmetic operators are used with numeric values to perform common mathematical operations. The addition and multiplication can also be used with strings to prform concatenation and repitition. Some of the common arithmetic operators are (+), (-), (*), (/), (%)\n",
    " \n",
    " \n",
    " Assignment operators:\n",
    " \n",
    " Assignment operators are used to assign values to variables. Some of the common assignment operators are (=), (+=), (-=)\n",
    " \n",
    " \n",
    " Comparision operators:\n",
    " \n",
    " Comparison operators are used to compare two values or two variables containing values of same data type. Some of the common \n",
    " comparision operators are (==), (<=), (>=), (!=), (<), (>)\n",
    " \n",
    " \n",
    " Logical Operators:\n",
    " \n",
    " Logical operators are used to combine conditional statements. The logical operators are and, or , not\n",
    " \n",
    " Identity Operators:\n",
    " \n",
    " Identity operators are used to compare the objects, not if they are equal, but if they are actually the same object, with the same memory location. Some of the identity operators are is, is not\n",
    " \n",
    " \n",
    " Membership Operators:\n",
    " \n",
    " Membership operators are used to test if a sequence is presented in an object.\n",
    " \n",
    " Membership operators are in, not in\n",
    " \n",
    " in ---> Returns True if a sequence with the specified value is present in the object\n",
    " \n",
    " not in ---> Returns True if a sequence with the specified value is not present in the object\n",
    " \n",
    " \n",
    " \n",
    " \n",
    " \n",
    " \n",
    "    "
   ]
  },
  {
   "cell_type": "markdown",
   "metadata": {},
   "source": [
    "Q6. How do you tell the difference between the double equal to and assignment operator?"
   ]
  },
  {
   "cell_type": "markdown",
   "metadata": {},
   "source": [
    "The equal to function is used to assign values to a variable whereas the double equal to operator is used to check the condition and its return type is boolean. "
   ]
  },
  {
   "cell_type": "code",
   "execution_count": 26,
   "metadata": {},
   "outputs": [
    {
     "data": {
      "text/plain": [
       "10"
      ]
     },
     "execution_count": 26,
     "metadata": {},
     "output_type": "execute_result"
    }
   ],
   "source": [
    "a = 10 #assignment\n",
    "a"
   ]
  },
  {
   "cell_type": "code",
   "execution_count": 27,
   "metadata": {},
   "outputs": [
    {
     "data": {
      "text/plain": [
       "False"
      ]
     },
     "execution_count": 27,
     "metadata": {},
     "output_type": "execute_result"
    }
   ],
   "source": [
    "a == 20 #Comparision operator"
   ]
  },
  {
   "cell_type": "markdown",
   "metadata": {},
   "source": [
    "Q7. Describe a condition and when you would use one."
   ]
  },
  {
   "cell_type": "markdown",
   "metadata": {},
   "source": [
    "We use the assignment operator to assign values to our variable and use the comparision operator to set conditions on our variables"
   ]
  },
  {
   "cell_type": "code",
   "execution_count": 28,
   "metadata": {},
   "outputs": [
    {
     "name": "stdout",
     "output_type": "stream",
     "text": [
      "Excess Value\n"
     ]
    }
   ],
   "source": [
    "i = 20\n",
    "if i < 0:\n",
    "    print (\"Negative\")\n",
    "elif i < 10:\n",
    "    print(\"Good Value\")\n",
    "else:\n",
    "    print(\"Excess Value\")"
   ]
  },
  {
   "cell_type": "markdown",
   "metadata": {},
   "source": [
    "Q8. Recognize the following three blocks in this code:"
   ]
  },
  {
   "cell_type": "code",
   "execution_count": 29,
   "metadata": {},
   "outputs": [
    {
     "name": "stdout",
     "output_type": "stream",
     "text": [
      "ham\n",
      "spam\n",
      "spam\n"
     ]
    }
   ],
   "source": [
    "spam = 0\n",
    "if spam == 10:\n",
    "    print(\"eggs\")\n",
    "if spam > 5:\n",
    "    print(\"bacon\")\n",
    "else:\n",
    "    print(\"ham\")\n",
    "    \n",
    "print(\"spam\") \n",
    "print(\"spam\") "
   ]
  },
  {
   "cell_type": "markdown",
   "metadata": {},
   "source": [
    "Q9. Create a programme that prints. If 1 is stored in spam, prints Hello; if 2 is stored in spam, prints\n",
    "Howdy; and if 3 is stored in spam, prints Salutations! if there IS something else in spam then invalid input"
   ]
  },
  {
   "cell_type": "code",
   "execution_count": 1,
   "metadata": {},
   "outputs": [
    {
     "name": "stdout",
     "output_type": "stream",
     "text": [
      "3\n",
      "Salutations\n"
     ]
    }
   ],
   "source": [
    "spam = eval(input())\n",
    "if spam == 1:\n",
    "    print(\"Hello\")\n",
    "elif spam == 2:\n",
    "    print(\"Howdy\")\n",
    "elif spam == 3:\n",
    "    print(\"Salutations\")\n",
    "else:\n",
    "    print(\"Invalid Input\")"
   ]
  },
  {
   "cell_type": "markdown",
   "metadata": {},
   "source": [
    "Q10. If your programme is stuck in an endless loop, what keys can you press?"
   ]
  },
  {
   "cell_type": "markdown",
   "metadata": {},
   "source": [
    "We can use CTRL+C key to exit the infinite loop"
   ]
  },
  {
   "cell_type": "markdown",
   "metadata": {},
   "source": [
    "Q11. How can you tell the difference between break and continue?"
   ]
  },
  {
   "cell_type": "markdown",
   "metadata": {},
   "source": [
    "Break statement is used to terminate the loop and makes the pointer come out of the loop. \n",
    "Continue statement is used to skip the current iteration and go to the next iteration of the loop"
   ]
  },
  {
   "cell_type": "code",
   "execution_count": 2,
   "metadata": {},
   "outputs": [
    {
     "name": "stdout",
     "output_type": "stream",
     "text": [
      "0\n",
      "1\n",
      "2\n",
      "3\n"
     ]
    }
   ],
   "source": [
    "for i in range(5):\n",
    "    print(i)\n",
    "    if i == 3:\n",
    "        break"
   ]
  },
  {
   "cell_type": "code",
   "execution_count": 4,
   "metadata": {},
   "outputs": [
    {
     "name": "stdout",
     "output_type": "stream",
     "text": [
      "0\n",
      "1\n",
      "2\n",
      "4\n"
     ]
    }
   ],
   "source": [
    "for i in range(5):\n",
    "    \n",
    "    if i == 3:\n",
    "        continue\n",
    "    print(i)"
   ]
  },
  {
   "cell_type": "markdown",
   "metadata": {},
   "source": [
    "Q12. In a for loop, what is the difference between range(10), range(0, 10), and range(0, 10, 1)?"
   ]
  },
  {
   "cell_type": "code",
   "execution_count": 1,
   "metadata": {},
   "outputs": [
    {
     "name": "stdout",
     "output_type": "stream",
     "text": [
      "0\n",
      "1\n",
      "2\n",
      "3\n",
      "4\n",
      "5\n",
      "6\n",
      "7\n",
      "8\n",
      "9\n"
     ]
    }
   ],
   "source": [
    "for i in range(10):\n",
    "    print(i)"
   ]
  },
  {
   "cell_type": "code",
   "execution_count": 2,
   "metadata": {},
   "outputs": [
    {
     "name": "stdout",
     "output_type": "stream",
     "text": [
      "0\n",
      "1\n",
      "2\n",
      "3\n",
      "4\n",
      "5\n",
      "6\n",
      "7\n",
      "8\n",
      "9\n"
     ]
    }
   ],
   "source": [
    "for i in range(0,10):\n",
    "    print(i)"
   ]
  },
  {
   "cell_type": "code",
   "execution_count": 3,
   "metadata": {},
   "outputs": [
    {
     "name": "stdout",
     "output_type": "stream",
     "text": [
      "0\n",
      "1\n",
      "2\n",
      "3\n",
      "4\n",
      "5\n",
      "6\n",
      "7\n",
      "8\n",
      "9\n"
     ]
    }
   ],
   "source": [
    "for i in range(0,10,1):\n",
    "    print(i)"
   ]
  },
  {
   "cell_type": "markdown",
   "metadata": {},
   "source": [
    "All the three functions are exactly the same."
   ]
  },
  {
   "cell_type": "markdown",
   "metadata": {},
   "source": [
    "Q13.Using a for loop, write a short programme that prints the numbers 1 to 10 Then, using a while\n",
    "loop, create an identical programme that prints the numbers 1 to 10. "
   ]
  },
  {
   "cell_type": "code",
   "execution_count": 4,
   "metadata": {},
   "outputs": [
    {
     "name": "stdout",
     "output_type": "stream",
     "text": [
      "0\n",
      "1\n",
      "2\n",
      "3\n",
      "4\n",
      "5\n",
      "6\n",
      "7\n",
      "8\n",
      "9\n"
     ]
    }
   ],
   "source": [
    "for i in range(10):\n",
    "    print(i)"
   ]
  },
  {
   "cell_type": "code",
   "execution_count": 5,
   "metadata": {},
   "outputs": [
    {
     "name": "stdout",
     "output_type": "stream",
     "text": [
      "0\n",
      "1\n",
      "2\n",
      "3\n",
      "4\n",
      "5\n",
      "6\n",
      "7\n",
      "8\n",
      "9\n",
      "10\n"
     ]
    }
   ],
   "source": [
    "i = 0\n",
    "while i <= 10:\n",
    "    print(i)\n",
    "    i = i+1"
   ]
  },
  {
   "cell_type": "markdown",
   "metadata": {},
   "source": [
    "Q14. If you had a bacon() function within a spam module, what would you call it after importing\n",
    "spam? "
   ]
  },
  {
   "cell_type": "markdown",
   "metadata": {},
   "source": [
    "You need to use the import keyword along with the desired module name. When interpreter comes across an import statement, it imports the module to your current program. You can use the functions inside a module by using a dot(.) operator along with the module name."
   ]
  },
  {
   "cell_type": "code",
   "execution_count": null,
   "metadata": {},
   "outputs": [],
   "source": []
  }
 ],
 "metadata": {
  "kernelspec": {
   "display_name": "Python 3",
   "language": "python",
   "name": "python3"
  },
  "language_info": {
   "codemirror_mode": {
    "name": "ipython",
    "version": 3
   },
   "file_extension": ".py",
   "mimetype": "text/x-python",
   "name": "python",
   "nbconvert_exporter": "python",
   "pygments_lexer": "ipython3",
   "version": "3.8.3"
  }
 },
 "nbformat": 4,
 "nbformat_minor": 4
}
