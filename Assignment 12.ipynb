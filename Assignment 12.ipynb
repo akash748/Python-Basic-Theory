{
 "cells": [
  {
   "cell_type": "markdown",
   "metadata": {},
   "source": [
    "# Assignment 12"
   ]
  },
  {
   "cell_type": "markdown",
   "metadata": {},
   "source": [
    "Question 1:In what modes should the PdfFileReader() and PdfFileWriter() File objects will be opened?"
   ]
  },
  {
   "cell_type": "markdown",
   "metadata": {},
   "source": [
    "PdfFileReader() needs to be opened in read-binary mode by passing 'rb' as the second argument to open(). Likewise, the File object passed to PyPDF2. PdfFileWriter() needs to be opened in write-binary mode with 'wb'"
   ]
  },
  {
   "cell_type": "code",
   "execution_count": 2,
   "metadata": {},
   "outputs": [
    {
     "name": "stdout",
     "output_type": "stream",
     "text": [
      "Collecting PyPDF2\n",
      "  Downloading PyPDF2-1.26.0.tar.gz (77 kB)\n",
      "Building wheels for collected packages: PyPDF2\n",
      "  Building wheel for PyPDF2 (setup.py): started\n",
      "  Building wheel for PyPDF2 (setup.py): finished with status 'done'\n",
      "  Created wheel for PyPDF2: filename=PyPDF2-1.26.0-py3-none-any.whl size=61087 sha256=4a189f8bf2ef081ad3a834dd5acc738f99fbc4fa2e6038506288aa20b16f0b45\n",
      "  Stored in directory: c:\\users\\akash\\appdata\\local\\pip\\cache\\wheels\\b1\\1a\\8f\\a4c34be976825a2f7948d0fa40907598d69834f8ab5889de11\n",
      "Successfully built PyPDF2\n",
      "Installing collected packages: PyPDF2\n",
      "Successfully installed PyPDF2-1.26.0\n"
     ]
    }
   ],
   "source": [
    "!pip install PyPDF2"
   ]
  },
  {
   "cell_type": "code",
   "execution_count": 3,
   "metadata": {},
   "outputs": [],
   "source": [
    "import PyPDF2"
   ]
  },
  {
   "cell_type": "markdown",
   "metadata": {},
   "source": [
    "Question 2:From a PdfFileReader object, how do you get a Page object for page 5?"
   ]
  },
  {
   "cell_type": "code",
   "execution_count": 4,
   "metadata": {},
   "outputs": [
    {
     "name": "stdout",
     "output_type": "stream",
     "text": [
      " \n",
      " \n",
      " \n",
      "\n",
      " \n",
      "You user id is ready to be used\n",
      ".\n",
      " \n",
      " \n",
      " \n",
      "You can \n",
      "now use the above \n",
      "User ID\n",
      " \n",
      "and \n",
      "Password\n",
      " \n",
      "for\n",
      " \n",
      "insta\n",
      "lling Pow\n",
      "er BI \n",
      " \n",
      "Desktop from the \n",
      "following link \n",
      "-\n",
      " \n",
      "https://www.microsoft.com/en\n",
      "-\n",
      "us/download/details.aspx?id=58494\n",
      ". \n",
      " \n",
      " \n",
      "Note:\n",
      "-\n",
      " \n",
      "This ID is valid \n",
      "for 1 month and after that follow the same step \n",
      "and create  one more \n",
      " \n",
      "Microsoft 365 account\n",
      " \n",
      "and continue to use Power B\n",
      "I Desktop.\n",
      " \n",
      "\n"
     ]
    }
   ],
   "source": [
    "import PyPDF2\n",
    "file = open('Create _Organizational_MailID.pdf','rb')\n",
    "pdf_reader = PyPDF2.PdfFileReader(file)\n",
    "pdf_page = pdf_reader.getPage(5)\n",
    "print(pdf_page.extractText())"
   ]
  },
  {
   "cell_type": "markdown",
   "metadata": {},
   "source": [
    "Question 3:What PdfFileReader variable stores the number of pages in the PDF document?"
   ]
  },
  {
   "cell_type": "code",
   "execution_count": 6,
   "metadata": {},
   "outputs": [
    {
     "name": "stdout",
     "output_type": "stream",
     "text": [
      "6\n"
     ]
    }
   ],
   "source": [
    "import PyPDF2\n",
    "file = open('Create _Organizational_MailID.pdf','rb')\n",
    "pdf_reader = PyPDF2.PdfFileReader(file)\n",
    "print(pdf_reader.numPages)"
   ]
  },
  {
   "cell_type": "markdown",
   "metadata": {},
   "source": [
    "Question 4:If a PdfFileReader object’s PDF is encrypted with the password swordfish, what must you do\n",
    "before you can obtain Page objects from it?"
   ]
  },
  {
   "cell_type": "markdown",
   "metadata": {},
   "source": [
    " We can use the decrypt paramter to obtain password protected pdf files."
   ]
  },
  {
   "cell_type": "markdown",
   "metadata": {},
   "source": [
    "decrypt(password)\n",
    "When using an encrypted / secured PDF file with the PDF Standard encryption handler, this function will allow the file to be decrypted. It checks the given password against the document’s user password and owner password, and then stores the resulting decryption key if either password is correct.\n",
    "\n",
    "It does not matter which password was matched. Both passwords provide the correct decryption key that will allow the document to be used with this library.\n",
    "\n",
    "Parameters:\tpassword (str) – The password to match.\n",
    "Returns:\t0 if the password failed, 1 if the password matched the user password, and 2 if the password matched the owner password.\n",
    "Return type:\tint\n",
    "Raises NotImplementedError:\n",
    " \tif document uses an unsupported encryption method"
   ]
  },
  {
   "cell_type": "markdown",
   "metadata": {},
   "source": [
    "Question 5:What methods do you use to rotate a page?"
   ]
  },
  {
   "cell_type": "code",
   "execution_count": 9,
   "metadata": {},
   "outputs": [],
   "source": [
    "import PyPDF2\n",
    "\n",
    "pdf_in = open('Create _Organizational_MailID.pdf', 'rb')\n",
    "pdf_reader = PyPDF2.PdfFileReader(pdf_in)\n",
    "pdf_writer = PyPDF2.PdfFileWriter()\n",
    "\n",
    "for pagenum in range(pdf_reader.numPages):\n",
    "        \n",
    "    page = pdf_reader.getPage(pagenum)\n",
    "    page.rotateClockwise(180)\n",
    "    pdf_writer.addPage(page)\n",
    "\n",
    "pdf_out = open('rotated.pdf', 'wb')\n",
    "pdf_writer.write(pdf_out)\n",
    "pdf_out.close()\n",
    "pdf_in.close()"
   ]
  },
  {
   "cell_type": "markdown",
   "metadata": {},
   "source": [
    "Question 6:What is the difference between a Run object and a Paragraph object?"
   ]
  },
  {
   "cell_type": "markdown",
   "metadata": {},
   "source": [
    "Each Paragraph object also has a runs attribute that is a list of Run objects. Run objects also have a text attribute, containing just the text in that particular run. Let's look at the text attributes in the second Paragraph object, 'A plain paragraph with some bold and some italic' "
   ]
  },
  {
   "cell_type": "markdown",
   "metadata": {},
   "source": [
    "Question 7:What type of object has bold, underline, italic, strike, and outline variables?"
   ]
  },
  {
   "cell_type": "markdown",
   "metadata": {},
   "source": [
    "Here, we use the text and style attributes to easily see what’s in the paragraphs in our document. We can see that it’s simple to divide a paragraph into runs and access each run individiaully. So we get the first, second, and fourth runs in the second paragraph, style each run, and save the results to a new document."
   ]
  },
  {
   "cell_type": "markdown",
   "metadata": {},
   "source": [
    "Question 8:What is the difference between False, True, and None for the bold variable?"
   ]
  },
  {
   "cell_type": "markdown",
   "metadata": {},
   "source": [
    "True (the attribute is always enabled, no matter what other styles are applied to the run), False (the attribute is always disabled), or None (defaults to whatever the run’s style is set to)"
   ]
  },
  {
   "cell_type": "markdown",
   "metadata": {},
   "source": [
    "Question 9:How do you create a Document object for a new Word document?"
   ]
  },
  {
   "cell_type": "code",
   "execution_count": 16,
   "metadata": {},
   "outputs": [
    {
     "name": "stdout",
     "output_type": "stream",
     "text": [
      "Collecting python-docx\n",
      "  Downloading python-docx-0.8.11.tar.gz (5.6 MB)\n",
      "Requirement already satisfied: lxml>=2.3.2 in c:\\users\\akash\\anaconda3\\lib\\site-packages (from python-docx) (4.5.2)\n",
      "Building wheels for collected packages: python-docx\n",
      "  Building wheel for python-docx (setup.py): started\n",
      "  Building wheel for python-docx (setup.py): finished with status 'done'\n",
      "  Created wheel for python-docx: filename=python_docx-0.8.11-py3-none-any.whl size=184606 sha256=510241c0569f9f5e8b9bcf0cfdef444c1bcb78d7e811bb4df89d01019c2c58d5\n",
      "  Stored in directory: c:\\users\\akash\\appdata\\local\\pip\\cache\\wheels\\32\\b8\\b2\\c4c2b95765e615fe139b0b17b5ea7c0e1b6519b0a9ec8fb34d\n",
      "Successfully built python-docx\n",
      "Installing collected packages: python-docx\n",
      "Successfully installed python-docx-0.8.11\n"
     ]
    }
   ],
   "source": [
    "!pip install python-docx "
   ]
  },
  {
   "cell_type": "code",
   "execution_count": 17,
   "metadata": {},
   "outputs": [],
   "source": [
    "import docx\n",
    "doc = docx.Document()\n",
    "doc.add_paragraph('Hello world!')\n",
    "doc.save('helloworld.docx')"
   ]
  },
  {
   "cell_type": "markdown",
   "metadata": {},
   "source": [
    "Question 10:How do you add a paragraph with the text &#39;Hello, there!&#39; to a Document object stored in a\n",
    "variable named doc?"
   ]
  },
  {
   "cell_type": "code",
   "execution_count": 18,
   "metadata": {},
   "outputs": [],
   "source": [
    "import docx\n",
    "doc = docx.Document()\n",
    "doc.add_paragraph('Hello world!')\n",
    "doc.save('helloworld.docx')"
   ]
  },
  {
   "cell_type": "markdown",
   "metadata": {},
   "source": [
    "Question 11:What integers represent the levels of headings available in Word documents?"
   ]
  },
  {
   "cell_type": "markdown",
   "metadata": {},
   "source": [
    "The arguments to add_heading() are a string of the heading text and an integer from 0 to 4. The integer 0 makes the heading the Title style, which is used for the top of the document. Integers 1 to 4 are for various heading levels, with 1 being the main heading and 4 the lowest subheading. The add_heading() function returns a Paragraph object to save you the step of extracting it from the Document object as a separate step."
   ]
  },
  {
   "cell_type": "code",
   "execution_count": null,
   "metadata": {},
   "outputs": [],
   "source": []
  }
 ],
 "metadata": {
  "kernelspec": {
   "display_name": "Python 3",
   "language": "python",
   "name": "python3"
  },
  "language_info": {
   "codemirror_mode": {
    "name": "ipython",
    "version": 3
   },
   "file_extension": ".py",
   "mimetype": "text/x-python",
   "name": "python",
   "nbconvert_exporter": "python",
   "pygments_lexer": "ipython3",
   "version": "3.8.3"
  }
 },
 "nbformat": 4,
 "nbformat_minor": 4
}
