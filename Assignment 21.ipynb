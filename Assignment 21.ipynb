{
 "cells": [
  {
   "cell_type": "markdown",
   "metadata": {},
   "source": [
    "# Assignment 21"
   ]
  },
  {
   "cell_type": "markdown",
   "metadata": {},
   "source": [
    "Question 1:Add the current date to the text file today.txt as a string."
   ]
  },
  {
   "cell_type": "code",
   "execution_count": 10,
   "metadata": {},
   "outputs": [],
   "source": [
    "import datetime"
   ]
  },
  {
   "cell_type": "code",
   "execution_count": 11,
   "metadata": {},
   "outputs": [],
   "source": [
    "f = open(\"today.txt\",\"w\")\n",
    "f.write(str(date.today()))\n",
    "f.close()\n"
   ]
  },
  {
   "cell_type": "code",
   "execution_count": 12,
   "metadata": {},
   "outputs": [
    {
     "name": "stdout",
     "output_type": "stream",
     "text": [
      "2021-07-23\n"
     ]
    }
   ],
   "source": [
    "f = open(\"today.txt\",\"r\")\n",
    "for i in f:\n",
    "    print(i)\n",
    "f.close()    "
   ]
  },
  {
   "cell_type": "markdown",
   "metadata": {},
   "source": [
    "Question 2:Read the text file today.txt into the string today_string"
   ]
  },
  {
   "cell_type": "code",
   "execution_count": 13,
   "metadata": {},
   "outputs": [],
   "source": [
    "today_string = \"\"\n",
    "f = open(\"today.txt\",\"r\")\n",
    "for i in f:\n",
    "    today_string = today_string + i\n",
    "f.close() "
   ]
  },
  {
   "cell_type": "code",
   "execution_count": 14,
   "metadata": {},
   "outputs": [
    {
     "data": {
      "text/plain": [
       "'2021-07-23'"
      ]
     },
     "execution_count": 14,
     "metadata": {},
     "output_type": "execute_result"
    }
   ],
   "source": [
    "today_string"
   ]
  },
  {
   "cell_type": "markdown",
   "metadata": {},
   "source": [
    "Question 3: List the files in your current directory"
   ]
  },
  {
   "cell_type": "code",
   "execution_count": 28,
   "metadata": {},
   "outputs": [
    {
     "name": "stdout",
     "output_type": "stream",
     "text": [
      " Volume in drive C is Windows-SSD\n",
      " Volume Serial Number is 68B9-E638\n",
      "\n",
      " Directory of C:\\Users\\AKASH\\OneDrive\\Desktop\\Ineuron Assignments\\Python Assignments Basic\n",
      "\n",
      "23-07-2021  19:27    <DIR>          .\n",
      "23-07-2021  19:27    <DIR>          ..\n",
      "22-07-2021  22:50    <DIR>          .ipynb_checkpoints\n",
      "28-04-2021  14:30    <DIR>          __pycache__\n",
      "27-04-2021  18:25                56 aka.csv\n",
      "07-03-2021  11:12            24,842 Assignment 1 and 2.ipynb\n",
      "21-07-2021  21:05             6,274 Assignment 10.ipynb\n",
      "21-07-2021  21:06             9,963 Assignment 11.ipynb\n",
      "19-04-2021  17:58               836 Assignment 12.ipynb\n",
      "21-07-2021  21:09         5,432,703 Assignment 13.ipynb\n",
      "27-04-2021  21:44             1,716 Assignment 15.ipynb\n",
      "21-07-2021  21:13             9,290 Assignment 16.ipynb\n",
      "28-04-2021  14:12             8,097 Assignment 17.ipynb\n",
      "28-04-2021  14:39             1,404 Assignment 18.ipynb\n",
      "21-07-2021  21:18            10,663 Assignment 19.ipynb\n",
      "28-04-2021  20:37             1,987 Assignment 20.ipynb\n",
      "23-07-2021  19:27             2,349 Assignment 21.ipynb\n",
      "21-07-2021  21:43             6,070 Assignment 22.ipynb\n",
      "21-07-2021  22:35             4,697 Assignment 23.ipynb\n",
      "22-07-2021  22:50             6,503 Assignment 24.ipynb\n",
      "22-07-2021  23:46             7,381 Assignment 25.ipynb\n",
      "23-07-2021  00:21             6,146 Assignment 3.ipynb\n",
      "21-07-2021  20:33            18,179 Assignment 4.ipynb\n",
      "21-07-2021  20:37             7,859 Assignment 5.ipynb\n",
      "21-07-2021  20:50            12,240 Assignment 6.ipynb\n",
      "16-04-2021  12:14             7,169 Assignment 7.ipynb\n",
      "16-04-2021  21:44            17,635 Assignment 8.ipynb\n",
      "21-07-2021  21:01            13,004 Assignment 9.ipynb\n",
      "27-04-2021  18:20                23 example.tsv\n",
      "19-04-2021  15:45               160 log.txt\n",
      "17-04-2021  17:53            91,547 new.zip\n",
      "28-04-2021  20:36                43 test1.txt\n",
      "28-04-2021  20:12                 0 text.txt\n",
      "23-07-2021  15:42                10 today.txt\n",
      "23-07-2021  15:48                 0 today_string.txt\n",
      "28-04-2021  14:38               110 zoo.py\n",
      "              32 File(s)      5,708,956 bytes\n",
      "               4 Dir(s)  333,574,352,896 bytes free\n"
     ]
    }
   ],
   "source": [
    "ls"
   ]
  },
  {
   "cell_type": "markdown",
   "metadata": {},
   "source": [
    "Question 4:Create a list of all of the files in your parent directory ."
   ]
  },
  {
   "cell_type": "code",
   "execution_count": 33,
   "metadata": {},
   "outputs": [
    {
     "name": "stdout",
     "output_type": "stream",
     "text": [
      " Volume in drive C is Windows-SSD\n",
      " Volume Serial Number is 68B9-E638\n",
      "\n",
      " Directory of C:\\Users\\AKASH\\OneDrive\\Desktop\\Ineuron Assignments\\Python Assignments Basic\n",
      "\n"
     ]
    },
    {
     "name": "stderr",
     "output_type": "stream",
     "text": [
      "File Not Found\n"
     ]
    }
   ],
   "source": [
    "ls -p"
   ]
  },
  {
   "cell_type": "markdown",
   "metadata": {},
   "source": [
    "Question 5:Use multiprocessing to create three separate processes. Make each one wait a random number of\n",
    "seconds between one and five, print the current time, and then exit."
   ]
  },
  {
   "cell_type": "markdown",
   "metadata": {},
   "source": [
    "Question 6:Create a date object of your day of birth."
   ]
  },
  {
   "cell_type": "code",
   "execution_count": 34,
   "metadata": {},
   "outputs": [
    {
     "data": {
      "text/plain": [
       "str"
      ]
     },
     "execution_count": 34,
     "metadata": {},
     "output_type": "execute_result"
    }
   ],
   "source": [
    "date = \"08-05-1998\"\n",
    "type(date)"
   ]
  },
  {
   "cell_type": "code",
   "execution_count": 41,
   "metadata": {},
   "outputs": [],
   "source": [
    "f = datetime.datetime.strptime(date,'%d-%m-%Y')"
   ]
  },
  {
   "cell_type": "code",
   "execution_count": 42,
   "metadata": {},
   "outputs": [
    {
     "data": {
      "text/plain": [
       "datetime.datetime"
      ]
     },
     "execution_count": 42,
     "metadata": {},
     "output_type": "execute_result"
    }
   ],
   "source": [
    "type(f)"
   ]
  },
  {
   "cell_type": "markdown",
   "metadata": {},
   "source": [
    "Question 7:What day of the week was your day of birth?"
   ]
  },
  {
   "cell_type": "code",
   "execution_count": 43,
   "metadata": {},
   "outputs": [
    {
     "data": {
      "text/plain": [
       "4"
      ]
     },
     "execution_count": 43,
     "metadata": {},
     "output_type": "execute_result"
    }
   ],
   "source": [
    "f.weekday()"
   ]
  },
  {
   "cell_type": "markdown",
   "metadata": {},
   "source": [
    "Question 8:When will you be (or when were you) 10,000 days old?"
   ]
  },
  {
   "cell_type": "code",
   "execution_count": 46,
   "metadata": {},
   "outputs": [],
   "source": [
    "from datetime import timedelta\n",
    "from datetime import datetime\n",
    "output = f + timedelta(days = 1000)"
   ]
  },
  {
   "cell_type": "code",
   "execution_count": 48,
   "metadata": {},
   "outputs": [
    {
     "name": "stdout",
     "output_type": "stream",
     "text": [
      "2001-02-01 00:00:00\n"
     ]
    }
   ],
   "source": [
    "print(output)"
   ]
  },
  {
   "cell_type": "code",
   "execution_count": null,
   "metadata": {},
   "outputs": [],
   "source": []
  }
 ],
 "metadata": {
  "kernelspec": {
   "display_name": "Python 3",
   "language": "python",
   "name": "python3"
  },
  "language_info": {
   "codemirror_mode": {
    "name": "ipython",
    "version": 3
   },
   "file_extension": ".py",
   "mimetype": "text/x-python",
   "name": "python",
   "nbconvert_exporter": "python",
   "pygments_lexer": "ipython3",
   "version": "3.8.3"
  }
 },
 "nbformat": 4,
 "nbformat_minor": 4
}
