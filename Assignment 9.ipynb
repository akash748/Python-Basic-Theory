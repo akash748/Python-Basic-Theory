{
 "cells": [
  {
   "cell_type": "markdown",
   "metadata": {},
   "source": [
    "# Assignment 9"
   ]
  },
  {
   "cell_type": "markdown",
   "metadata": {},
   "source": [
    "Question 1:To what does a relative path refer?"
   ]
  },
  {
   "cell_type": "markdown",
   "metadata": {},
   "source": [
    "The relative path refers to the current working directory which is also known as the root directory."
   ]
  },
  {
   "cell_type": "code",
   "execution_count": 1,
   "metadata": {},
   "outputs": [
    {
     "data": {
      "text/plain": [
       "'C:\\\\Users\\\\AKASH\\\\OneDrive\\\\Desktop\\\\Ineuron Assignments\\\\Python Assignments Basic'"
      ]
     },
     "execution_count": 1,
     "metadata": {},
     "output_type": "execute_result"
    }
   ],
   "source": [
    "pwd()"
   ]
  },
  {
   "cell_type": "markdown",
   "metadata": {},
   "source": [
    "Here the above path starts with C drive."
   ]
  },
  {
   "cell_type": "markdown",
   "metadata": {},
   "source": [
    "Question 2:What does an absolute path start with your operating system?"
   ]
  },
  {
   "cell_type": "code",
   "execution_count": 2,
   "metadata": {},
   "outputs": [
    {
     "data": {
      "text/plain": [
       "'C:\\\\Users\\\\AKASH\\\\OneDrive\\\\Desktop\\\\Ineuron Assignments\\\\Python Assignments Basic'"
      ]
     },
     "execution_count": 2,
     "metadata": {},
     "output_type": "execute_result"
    }
   ],
   "source": [
    "pwd()"
   ]
  },
  {
   "cell_type": "markdown",
   "metadata": {},
   "source": [
    "The absolute path starts with C drive followed by //"
   ]
  },
  {
   "cell_type": "markdown",
   "metadata": {},
   "source": [
    "Question 3:What do the functions os.getcwd() and os.chdir() do?"
   ]
  },
  {
   "cell_type": "code",
   "execution_count": 3,
   "metadata": {},
   "outputs": [],
   "source": [
    "import os"
   ]
  },
  {
   "cell_type": "code",
   "execution_count": 4,
   "metadata": {},
   "outputs": [
    {
     "data": {
      "text/plain": [
       "'C:\\\\Users\\\\AKASH\\\\OneDrive\\\\Desktop\\\\Ineuron Assignments\\\\Python Assignments Basic'"
      ]
     },
     "execution_count": 4,
     "metadata": {},
     "output_type": "execute_result"
    }
   ],
   "source": [
    "os.getcwd()"
   ]
  },
  {
   "cell_type": "code",
   "execution_count": 5,
   "metadata": {},
   "outputs": [],
   "source": [
    "os.chdir('C:\\\\Users\\\\Akash')"
   ]
  },
  {
   "cell_type": "code",
   "execution_count": 6,
   "metadata": {},
   "outputs": [
    {
     "data": {
      "text/plain": [
       "'C:\\\\Users\\\\Akash'"
      ]
     },
     "execution_count": 6,
     "metadata": {},
     "output_type": "execute_result"
    }
   ],
   "source": [
    "os.getcwd()"
   ]
  },
  {
   "cell_type": "code",
   "execution_count": 8,
   "metadata": {},
   "outputs": [],
   "source": [
    "os.chdir('C:\\\\Users\\\\AKASH\\\\OneDrive\\\\Desktop\\\\Ineuron Assignments\\\\Python Assignments Basic')"
   ]
  },
  {
   "cell_type": "code",
   "execution_count": 9,
   "metadata": {},
   "outputs": [
    {
     "data": {
      "text/plain": [
       "'C:\\\\Users\\\\AKASH\\\\OneDrive\\\\Desktop\\\\Ineuron Assignments\\\\Python Assignments Basic'"
      ]
     },
     "execution_count": 9,
     "metadata": {},
     "output_type": "execute_result"
    }
   ],
   "source": [
    "os.getcwd()"
   ]
  },
  {
   "cell_type": "markdown",
   "metadata": {},
   "source": [
    "getcwd() is used to get the  current working directory while chdir is used to change the current working directory or change the location of the file."
   ]
  },
  {
   "cell_type": "markdown",
   "metadata": {},
   "source": [
    "Question 4:What are the . and .. folders?"
   ]
  },
  {
   "cell_type": "markdown",
   "metadata": {},
   "source": [
    " Relative paths make use of two special symbols, a dot (.) and a double-dot (..), which translate into the current directory and the parent directory. Double dots are used for moving up in the hierarchy. A single dot represents the current directory itself."
   ]
  },
  {
   "cell_type": "code",
   "execution_count": 11,
   "metadata": {},
   "outputs": [
    {
     "data": {
      "text/plain": [
       "'C:\\\\Users\\\\AKASH\\\\OneDrive\\\\Desktop\\\\Ineuron Assignments\\\\Python Assignments Basic'"
      ]
     },
     "execution_count": 11,
     "metadata": {},
     "output_type": "execute_result"
    }
   ],
   "source": [
    "os.path.realpath('.')"
   ]
  },
  {
   "cell_type": "code",
   "execution_count": 12,
   "metadata": {},
   "outputs": [
    {
     "data": {
      "text/plain": [
       "'C:\\\\Users\\\\AKASH\\\\OneDrive\\\\Desktop\\\\Ineuron Assignments'"
      ]
     },
     "execution_count": 12,
     "metadata": {},
     "output_type": "execute_result"
    }
   ],
   "source": [
    "os.path.realpath('..')"
   ]
  },
  {
   "cell_type": "markdown",
   "metadata": {},
   "source": [
    "Question 5:In C:\\bacon\\eggs\\spam.txt, which part is the dir name, and which part is the base name?"
   ]
  },
  {
   "cell_type": "code",
   "execution_count": 16,
   "metadata": {},
   "outputs": [
    {
     "data": {
      "text/plain": [
       "'C:\\\\ bacon \\\\ eggs'"
      ]
     },
     "execution_count": 16,
     "metadata": {},
     "output_type": "execute_result"
    }
   ],
   "source": [
    "path = 'C:\\ bacon \\ eggs\\spam.txt'\n",
    "os.path.dirname(path)"
   ]
  },
  {
   "cell_type": "code",
   "execution_count": 17,
   "metadata": {},
   "outputs": [
    {
     "data": {
      "text/plain": [
       "'spam.txt'"
      ]
     },
     "execution_count": 17,
     "metadata": {},
     "output_type": "execute_result"
    }
   ],
   "source": [
    "os.path.basename(path)"
   ]
  },
  {
   "cell_type": "markdown",
   "metadata": {},
   "source": [
    "Question 6:What are the three “mode” arguments that can be passed to the open() function?"
   ]
  },
  {
   "cell_type": "markdown",
   "metadata": {},
   "source": [
    "The three mode arguments are listed below:"
   ]
  },
  {
   "cell_type": "markdown",
   "metadata": {},
   "source": [
    "\"r\" - Read - Default value. Opens a file for reading, error if the file does not exist\n",
    "\n",
    "\"a\" - Append - Opens a file for appending, creates the file if it does not exist\n",
    "\n",
    "\"w\" - Write - Opens a file for writing and truncates the already written content, creates the file if it does not exist"
   ]
  },
  {
   "cell_type": "code",
   "execution_count": 21,
   "metadata": {},
   "outputs": [],
   "source": [
    "file = open('text.txt','w')\n",
    "file.write(\"shfsuifguafguifeu\")\n",
    "file.close()"
   ]
  },
  {
   "cell_type": "code",
   "execution_count": 23,
   "metadata": {},
   "outputs": [],
   "source": [
    "file = open('text.txt','a')\n",
    "file.write(\"shfsuifguafguifeu\")\n",
    "file.close()"
   ]
  },
  {
   "cell_type": "markdown",
   "metadata": {},
   "source": [
    "Question 7:What happens if an existing file is opened in write mode?"
   ]
  },
  {
   "cell_type": "markdown",
   "metadata": {},
   "source": [
    "If an existing file is opened in write mode then the function truncates all the already written data in the file and starts afresh from the first line"
   ]
  },
  {
   "cell_type": "markdown",
   "metadata": {},
   "source": [
    "Question 8:How do you tell the difference between read() and readlines()?"
   ]
  },
  {
   "cell_type": "code",
   "execution_count": 27,
   "metadata": {},
   "outputs": [],
   "source": [
    "file = open('text.txt','a')\n",
    "file.write(\"\\n shfsuifguafguifeugaigihqubhxwiwhdb\")\n",
    "file.close()"
   ]
  },
  {
   "cell_type": "code",
   "execution_count": 31,
   "metadata": {},
   "outputs": [
    {
     "name": "stdout",
     "output_type": "stream",
     "text": [
      "['shfsuifguafguifeushfsuifguafguifeu/n shfsuifguafguifeugaigihqubhxwiwhdb//n shfsuifguafguifeugaigihqubhxwiwhdbshfsuifguafguifeugaigihqubhxwiwhdb\\n', '\\n', ' shfsuifguafguifeugaigihqubhxwiwhdb']\n"
     ]
    }
   ],
   "source": [
    "file = open(\"text.txt\",\"r\")\n",
    "print(file.readlines())\n",
    "file.close()"
   ]
  },
  {
   "cell_type": "code",
   "execution_count": 32,
   "metadata": {},
   "outputs": [
    {
     "name": "stdout",
     "output_type": "stream",
     "text": [
      "shfsuifguafguifeushfsuifguafguifeu/n shfsuifguafguifeugaigihqubhxwiwhdb//n shfsuifguafguifeugaigihqubhxwiwhdbshfsuifguafguifeugaigihqubhxwiwhdb\n",
      "\n",
      " shfsuifguafguifeugaigihqubhxwiwhdb\n"
     ]
    }
   ],
   "source": [
    "file = open('text.txt',\"r\")\n",
    "print(file.read())"
   ]
  },
  {
   "cell_type": "code",
   "execution_count": 33,
   "metadata": {},
   "outputs": [
    {
     "name": "stdout",
     "output_type": "stream",
     "text": [
      "s\n",
      "h\n",
      "f\n",
      "s\n",
      "u\n",
      "i\n",
      "f\n",
      "g\n",
      "u\n",
      "a\n",
      "f\n",
      "g\n",
      "u\n",
      "i\n",
      "f\n",
      "e\n",
      "u\n",
      "s\n",
      "h\n",
      "f\n",
      "s\n",
      "u\n",
      "i\n",
      "f\n",
      "g\n",
      "u\n",
      "a\n",
      "f\n",
      "g\n",
      "u\n",
      "i\n",
      "f\n",
      "e\n",
      "u\n",
      "/\n",
      "n\n",
      " \n",
      "s\n",
      "h\n",
      "f\n",
      "s\n",
      "u\n",
      "i\n",
      "f\n",
      "g\n",
      "u\n",
      "a\n",
      "f\n",
      "g\n",
      "u\n",
      "i\n",
      "f\n",
      "e\n",
      "u\n",
      "g\n",
      "a\n",
      "i\n",
      "g\n",
      "i\n",
      "h\n",
      "q\n",
      "u\n",
      "b\n",
      "h\n",
      "x\n",
      "w\n",
      "i\n",
      "w\n",
      "h\n",
      "d\n",
      "b\n",
      "/\n",
      "/\n",
      "n\n",
      " \n",
      "s\n",
      "h\n",
      "f\n",
      "s\n",
      "u\n",
      "i\n",
      "f\n",
      "g\n",
      "u\n",
      "a\n",
      "f\n",
      "g\n",
      "u\n",
      "i\n",
      "f\n",
      "e\n",
      "u\n",
      "g\n",
      "a\n",
      "i\n",
      "g\n",
      "i\n",
      "h\n",
      "q\n",
      "u\n",
      "b\n",
      "h\n",
      "x\n",
      "w\n",
      "i\n",
      "w\n",
      "h\n",
      "d\n",
      "b\n",
      "s\n",
      "h\n",
      "f\n",
      "s\n",
      "u\n",
      "i\n",
      "f\n",
      "g\n",
      "u\n",
      "a\n",
      "f\n",
      "g\n",
      "u\n",
      "i\n",
      "f\n",
      "e\n",
      "u\n",
      "g\n",
      "a\n",
      "i\n",
      "g\n",
      "i\n",
      "h\n",
      "q\n",
      "u\n",
      "b\n",
      "h\n",
      "x\n",
      "w\n",
      "i\n",
      "w\n",
      "h\n",
      "d\n",
      "b\n",
      "\n",
      "\n",
      "\n",
      "\n",
      " \n",
      "s\n",
      "h\n",
      "f\n",
      "s\n",
      "u\n",
      "i\n",
      "f\n",
      "g\n",
      "u\n",
      "a\n",
      "f\n",
      "g\n",
      "u\n",
      "i\n",
      "f\n",
      "e\n",
      "u\n",
      "g\n",
      "a\n",
      "i\n",
      "g\n",
      "i\n",
      "h\n",
      "q\n",
      "u\n",
      "b\n",
      "h\n",
      "x\n",
      "w\n",
      "i\n",
      "w\n",
      "h\n",
      "d\n",
      "b\n"
     ]
    }
   ],
   "source": [
    "file = open('text.txt',\"r\")\n",
    "for i in file.read():\n",
    "    print(i)"
   ]
  },
  {
   "cell_type": "code",
   "execution_count": 34,
   "metadata": {},
   "outputs": [
    {
     "name": "stdout",
     "output_type": "stream",
     "text": [
      "shfsuifguafguifeushfsuifguafguifeu/n shfsuifguafguifeugaigihqubhxwiwhdb//n shfsuifguafguifeugaigihqubhxwiwhdbshfsuifguafguifeugaigihqubhxwiwhdb\n",
      "\n",
      "\n",
      "\n",
      " shfsuifguafguifeugaigihqubhxwiwhdb\n"
     ]
    }
   ],
   "source": [
    "file = open('text.txt',\"r\")\n",
    "for i in file.readlines():\n",
    "    print(i)"
   ]
  },
  {
   "cell_type": "markdown",
   "metadata": {},
   "source": [
    "read function reads the file character by character\n",
    "\n",
    "readlines function reads the file line by line"
   ]
  },
  {
   "cell_type": "markdown",
   "metadata": {},
   "source": [
    "Question 9:What data structure does a shelf value resemble?"
   ]
  },
  {
   "cell_type": "markdown",
   "metadata": {},
   "source": [
    "A shelf value resembles a dictionary value; it has keys and values, along with keys() and values() methods that work similarly to the dictionary methods of the same name.\n"
   ]
  },
  {
   "cell_type": "code",
   "execution_count": null,
   "metadata": {},
   "outputs": [],
   "source": [
    "Question 10"
   ]
  }
 ],
 "metadata": {
  "kernelspec": {
   "display_name": "Python 3",
   "language": "python",
   "name": "python3"
  },
  "language_info": {
   "codemirror_mode": {
    "name": "ipython",
    "version": 3
   },
   "file_extension": ".py",
   "mimetype": "text/x-python",
   "name": "python",
   "nbconvert_exporter": "python",
   "pygments_lexer": "ipython3",
   "version": "3.8.3"
  }
 },
 "nbformat": 4,
 "nbformat_minor": 4
}
